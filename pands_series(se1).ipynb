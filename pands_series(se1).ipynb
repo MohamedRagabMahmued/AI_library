{
 "cells": [
  {
   "cell_type": "markdown",
   "id": "710b9a7f",
   "metadata": {},
   "source": [
    "pands_series"
   ]
  },
  {
   "cell_type": "code",
   "execution_count": null,
   "id": "1100e8a2",
   "metadata": {},
   "outputs": [],
   "source": [
    "import pandas as pd\n",
    "import numpy as np"
   ]
  },
  {
   "cell_type": "code",
   "execution_count": 3,
   "id": "215ce40f",
   "metadata": {},
   "outputs": [
    {
     "data": {
      "text/plain": [
       "0    5\n",
       "dtype: int64"
      ]
     },
     "execution_count": 3,
     "metadata": {},
     "output_type": "execute_result"
    }
   ],
   "source": [
    "pd.Series(5)"
   ]
  },
  {
   "cell_type": "markdown",
   "id": "148b7255",
   "metadata": {},
   "source": [
    "the pands series object\n"
   ]
  },
  {
   "cell_type": "markdown",
   "id": "a89ad16d",
   "metadata": {},
   "source": [
    "creat from alist"
   ]
  },
  {
   "cell_type": "code",
   "execution_count": 8,
   "id": "843ac126",
   "metadata": {},
   "outputs": [
    {
     "data": {
      "text/plain": [
       "0    25\n",
       "1    95\n",
       "2    36\n",
       "3    74\n",
       "dtype: int64"
      ]
     },
     "execution_count": 8,
     "metadata": {},
     "output_type": "execute_result"
    }
   ],
   "source": [
    "data=pd.Series([25,95,36,74])\n",
    "data"
   ]
  },
  {
   "cell_type": "code",
   "execution_count": 10,
   "id": "38917609",
   "metadata": {},
   "outputs": [
    {
     "data": {
      "text/plain": [
       "numpy.ndarray"
      ]
     },
     "execution_count": 10,
     "metadata": {},
     "output_type": "execute_result"
    }
   ],
   "source": [
    "data.values"
   ]
  },
  {
   "cell_type": "markdown",
   "id": "98ca248e",
   "metadata": {},
   "source": [
    "indeximg"
   ]
  },
  {
   "cell_type": "code",
   "execution_count": 12,
   "id": "279fab0a",
   "metadata": {},
   "outputs": [
    {
     "data": {
      "text/plain": [
       "36"
      ]
     },
     "execution_count": 12,
     "metadata": {},
     "output_type": "execute_result"
    }
   ],
   "source": [
    "data[2]"
   ]
  },
  {
   "cell_type": "code",
   "execution_count": 14,
   "id": "204a80ca",
   "metadata": {},
   "outputs": [
    {
     "data": {
      "text/plain": [
       "f     25\n",
       "s     95\n",
       "th    36\n",
       "fo    74\n",
       "dtype: int64"
      ]
     },
     "execution_count": 14,
     "metadata": {},
     "output_type": "execute_result"
    }
   ],
   "source": [
    "data=pd.Series([25,95,36,74],index=['f','s','th','fo'])\n",
    "data"
   ]
  },
  {
   "cell_type": "code",
   "execution_count": 15,
   "id": "3aea8bb0",
   "metadata": {},
   "outputs": [
    {
     "data": {
      "text/plain": [
       "36"
      ]
     },
     "execution_count": 15,
     "metadata": {},
     "output_type": "execute_result"
    }
   ],
   "source": [
    "data['th']"
   ]
  },
  {
   "cell_type": "markdown",
   "id": "5e67d9a2",
   "metadata": {},
   "source": [
    "A series from a python dictionary"
   ]
  },
  {
   "cell_type": "code",
   "execution_count": 16,
   "id": "0fc2b7c6",
   "metadata": {},
   "outputs": [
    {
     "data": {
      "text/plain": [
       "{'california': 123456,\n",
       " 'texas': 654321,\n",
       " 'new york': 456123,\n",
       " 'florida': 526341,\n",
       " 'illinois': 415263}"
      ]
     },
     "execution_count": 16,
     "metadata": {},
     "output_type": "execute_result"
    }
   ],
   "source": [
    "population_dict={'california':123456,\n",
    "                'texas':654321,\n",
    "                'new york':456123,\n",
    "                'florida':526341,\n",
    "                'illinois':415263}\n",
    "population_dict"
   ]
  },
  {
   "cell_type": "code",
   "execution_count": 19,
   "id": "1fd1a104",
   "metadata": {
    "scrolled": true
   },
   "outputs": [
    {
     "data": {
      "text/plain": [
       "california    123456\n",
       "texas         654321\n",
       "new york      456123\n",
       "florida       526341\n",
       "illinois      415263\n",
       "dtype: int64"
      ]
     },
     "execution_count": 19,
     "metadata": {},
     "output_type": "execute_result"
    }
   ],
   "source": [
    "population_series=pd.Series(population_dict)\n",
    "population_series"
   ]
  },
  {
   "cell_type": "code",
   "execution_count": 20,
   "id": "34c2b5bd",
   "metadata": {},
   "outputs": [
    {
     "data": {
      "text/plain": [
       "456123"
      ]
     },
     "execution_count": 20,
     "metadata": {},
     "output_type": "execute_result"
    }
   ],
   "source": [
    "population_series['new york']"
   ]
  },
  {
   "cell_type": "code",
   "execution_count": 22,
   "id": "fd981181",
   "metadata": {},
   "outputs": [
    {
     "data": {
      "text/plain": [
       "california    123456\n",
       "texas         654321\n",
       "new york      456123\n",
       "dtype: int64"
      ]
     },
     "execution_count": 22,
     "metadata": {},
     "output_type": "execute_result"
    }
   ],
   "source": [
    "population_series['california':'new york']"
   ]
  },
  {
   "cell_type": "markdown",
   "id": "be51adbc",
   "metadata": {},
   "source": [
    "use number dont insed last uum"
   ]
  },
  {
   "cell_type": "code",
   "execution_count": 23,
   "id": "bc133676",
   "metadata": {},
   "outputs": [
    {
     "data": {
      "text/plain": [
       "california    123456\n",
       "texas         654321\n",
       "dtype: int64"
      ]
     },
     "execution_count": 23,
     "metadata": {},
     "output_type": "execute_result"
    }
   ],
   "source": [
    "population_series[0:2]"
   ]
  },
  {
   "cell_type": "code",
   "execution_count": null,
   "id": "8953bb49",
   "metadata": {},
   "outputs": [],
   "source": []
  }
 ],
 "metadata": {
  "kernelspec": {
   "display_name": "Python 3 (ipykernel)",
   "language": "python",
   "name": "python3"
  },
  "language_info": {
   "codemirror_mode": {
    "name": "ipython",
    "version": 3
   },
   "file_extension": ".py",
   "mimetype": "text/x-python",
   "name": "python",
   "nbconvert_exporter": "python",
   "pygments_lexer": "ipython3",
   "version": "3.10.9"
  }
 },
 "nbformat": 4,
 "nbformat_minor": 5
}
